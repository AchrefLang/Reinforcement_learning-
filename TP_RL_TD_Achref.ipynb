{
  "nbformat": 4,
  "nbformat_minor": 0,
  "metadata": {
    "colab": {
      "provenance": []
    },
    "kernelspec": {
      "name": "python3",
      "display_name": "Python 3"
    }
  },
  "cells": [
    {
      "cell_type": "markdown",
      "metadata": {
        "id": "8ztJNm_1JnIA"
      },
      "source": [
        "#TP Méthodes des différences temporelles -- SARSA et Q-Learning"
      ]
    },
    {
      "cell_type": "markdown",
      "metadata": {
        "id": "SfPlRr2lJ1ul"
      },
      "source": [
        "## Frozen Lake\n",
        "\n",
        "L'environnement Frozen Lake est un monde grille incertain dans lequel on part depuis un état initial (la case la plus en haut à gauche) pour aller à un état final (la case la plus basse à droite). L'environnement est incertain car vous marchez sur un lac gelé et l'épaisseur de glace varie. Vous pouvez donc tomber dans l'eau dans certaines cases. De plus, la glace est plus glissante à certains endroits, et donc faire un pas peut vous mener plus loin que prévu... et si le vent s'en mèle...\n",
        "\n",
        "Au lieu d'essayer d'estimer le modèle de transition, on va utiliser SARSA et Q-learning pour résoudre ce problème.\n",
        "\n",
        "Utilisez l'environnement Frozen Lake pour implémenter SARSA et Q-learning. Utilisez d'abord l'environnement avec une grille 4x4 pour tester vos algorithmes, puis vous devriez pouvoir les utiliser pour la grille 16x16.\n",
        "\n"
      ]
    },
    {
      "cell_type": "markdown",
      "metadata": {
        "id": "DxXBD-woAxNm"
      },
      "source": [
        "## FrozenLake - familiarisation avec l'environnement\n",
        "\n",
        "Evaluez une politique aléatoire. "
      ]
    },
    {
      "cell_type": "code",
      "metadata": {
        "id": "YYxTls9tJmVX",
        "colab": {
          "base_uri": "https://localhost:8080/"
        },
        "outputId": "b2ef851f-b375-4448-8604-37c7cddd16b3"
      },
      "source": [
        "import numpy as np\n",
        "import matplotlib.pyplot as plt\n",
        "import random\n",
        "import gym\n",
        "#env = gym.make(\"FrozenLake8x8-v0\",  is_slippery=True)\n",
        "env = gym.make(\"FrozenLake-v1\")\n",
        "numStates = env.observation_space.n\n",
        "numActions = env.action_space.n\n",
        "print(\"Environnement avec \", numStates, \" états et \", numActions, \" actions\")\n",
        "#\n",
        "# env.reset() fait commencer un nouvel épisode\n",
        "# la méthode retourne l'état initial\n",
        "#\n",
        "state = env.reset()\n",
        "nbIt=0\n",
        "rew=[]\n",
        "done=False\n",
        "while not done:\n",
        "  #\n",
        "  # env.step(action) exécute une action dans l'état courant\n",
        "  # la méthode retourne:\n",
        "  #    • l'état suivant\n",
        "  #    • la récompense immédiate\n",
        "  #    • un booléen qui indique si l'épisode est terminé\n",
        "  #    • le quatrième argument ne nous est pas utile (sert pour le debuggage dans certains cas)\n",
        "  #\n",
        "  nextState, reward, done, info = env.step(np.random.randint(4))\n",
        "  print(\"etat numero:\",nextState)\n",
        "  #\n",
        "  # env.render donne une réprésentation de l'état.\n",
        "  #\n",
        "  #env.render()\n",
        "  nbIt+=1\n",
        "  rew = rew+[reward]\n",
        "print(\"Episode terminé après {} itérations\".format(nbIt))\n",
        "print(\"Récompenses obtenues:\",rew)\n",
        "env.close()"
      ],
      "execution_count": null,
      "outputs": [
        {
          "output_type": "stream",
          "name": "stdout",
          "text": [
            "Environnement avec  16  états et  4  actions\n",
            "etat numero: 1\n",
            "etat numero: 2\n",
            "etat numero: 6\n",
            "etat numero: 7\n",
            "Episode terminé après 4 itérations\n",
            "Récompenses obtenues: [0.0, 0.0, 0.0, 0.0]\n"
          ]
        },
        {
          "output_type": "stream",
          "name": "stderr",
          "text": [
            "/usr/local/lib/python3.7/dist-packages/gym/core.py:318: DeprecationWarning: \u001b[33mWARN: Initializing wrapper in old step API which returns one bool instead of two. It is recommended to set `new_step_api=True` to use new step API. This will be the default behaviour in future.\u001b[0m\n",
            "  \"Initializing wrapper in old step API which returns one bool instead of two. It is recommended to set `new_step_api=True` to use new step API. This will be the default behaviour in future.\"\n",
            "/usr/local/lib/python3.7/dist-packages/gym/wrappers/step_api_compatibility.py:40: DeprecationWarning: \u001b[33mWARN: Initializing environment in old step API which returns one bool instead of two. It is recommended to set `new_step_api=True` to use new step API. This will be the default behaviour in future.\u001b[0m\n",
            "  \"Initializing environment in old step API which returns one bool instead of two. It is recommended to set `new_step_api=True` to use new step API. This will be the default behaviour in future.\"\n"
          ]
        }
      ]
    },
    {
      "cell_type": "code",
      "source": [
        "pip install gym[toy_text]"
      ],
      "metadata": {
        "colab": {
          "base_uri": "https://localhost:8080/"
        },
        "id": "OPOZVkdKnf4Y",
        "outputId": "4ef77d2a-8920-45ae-a86b-a785bf446136"
      },
      "execution_count": null,
      "outputs": [
        {
          "output_type": "stream",
          "name": "stdout",
          "text": [
            "Looking in indexes: https://pypi.org/simple, https://us-python.pkg.dev/colab-wheels/public/simple/\n",
            "Requirement already satisfied: gym[toy_text] in /usr/local/lib/python3.7/dist-packages (0.25.2)\n",
            "Requirement already satisfied: cloudpickle>=1.2.0 in /usr/local/lib/python3.7/dist-packages (from gym[toy_text]) (1.5.0)\n",
            "Requirement already satisfied: numpy>=1.18.0 in /usr/local/lib/python3.7/dist-packages (from gym[toy_text]) (1.21.6)\n",
            "Requirement already satisfied: gym-notices>=0.0.4 in /usr/local/lib/python3.7/dist-packages (from gym[toy_text]) (0.0.8)\n",
            "Requirement already satisfied: importlib-metadata>=4.8.0 in /usr/local/lib/python3.7/dist-packages (from gym[toy_text]) (4.13.0)\n",
            "Collecting pygame==2.1.0\n",
            "  Downloading pygame-2.1.0-cp37-cp37m-manylinux_2_17_x86_64.manylinux2014_x86_64.whl (18.3 MB)\n",
            "\u001b[K     |████████████████████████████████| 18.3 MB 111 kB/s \n",
            "\u001b[?25hRequirement already satisfied: zipp>=0.5 in /usr/local/lib/python3.7/dist-packages (from importlib-metadata>=4.8.0->gym[toy_text]) (3.10.0)\n",
            "Requirement already satisfied: typing-extensions>=3.6.4 in /usr/local/lib/python3.7/dist-packages (from importlib-metadata>=4.8.0->gym[toy_text]) (4.1.1)\n",
            "Installing collected packages: pygame\n",
            "Successfully installed pygame-2.1.0\n"
          ]
        }
      ]
    },
    {
      "cell_type": "markdown",
      "metadata": {
        "id": "sCR8A5xKB1Zv"
      },
      "source": [
        "## $\\epsilon$-greedy\n",
        "\n",
        "Implémentez une fonction qui retourne une action avec la stratégie $\\epsilon$-greedy:\n",
        "* exploite avec un probabilité $1-\\epsilon$: ici on choisit l'action avec la meilleure valeur de $q[s]$\n",
        "* explore avec une probabilité $\\epsilon$: on choisit une action de manière uniforme sur toute les actions.\n",
        "\n",
        "Vous pouvez choisir différente signature pour la fonction:\n",
        "soit en lui passant:\n",
        " * le paramètre $\\epsilon$\n",
        " * la table `Q`\n",
        " * l'état `s` dans lequel l'action sera exécutée\n",
        " * donc l'appel aura la forme `action = epsGreedy(eps, Q, s)`\n",
        "\n",
        " Autre solution, vous pouvez donner seulement la valeur de $\\epsilon$ et vecteur Q(s) (qui a pour dimension le nombre d'actions). L'appel aura donc la forme `action = epsGreedy(eps, q)`\n",
        "\n",
        "*Attention* On peut imaginer le cas particulier où on trouve plusieurs occurrence de la valeur max dans le vecteur `Q(s)`. Dans ce cas, il ne faudrait pas *toujours* choisir la même action, mais plutôt choisir une des actions ex-aequo au hasard. \n",
        "Ce cas n'est peut-être pas si exotique que cela, en particulier en début d'apprentissage, quand toutes les valeurs sont nulles. Pour explorer, il est alors souhaitable de répéter le même choix!\n",
        "\n",
        "\n",
        "Pour ceux peu familier avec python, regardez le petit exemple de code ci-dessous pour illustrer quelques fonctions de la bibliothèque `numpy`\n",
        "- La fonction `np.random.rand()` tire une valeur de manière uniforme entre 0 et 1. \n",
        "- La fonction np.random.choice permet de choisir de manière uniforme une valeur parmi un ensemble.\n",
        "- La fonction `np.argwhere(l)` permet de donner les indices où l'entrée du vecteur l est non nul. On peut donc coupler un appel de `np.argwhere` avec un test.\n",
        "\n"
      ]
    },
    {
      "cell_type": "code",
      "metadata": {
        "colab": {
          "base_uri": "https://localhost:8080/"
        },
        "id": "8Otp_pfpaske",
        "outputId": "efd57d33-02db-4e4e-a1ac-bd21c152c123"
      },
      "source": [
        "val = np.random.rand()\n",
        "print(val)\n",
        "val=np.zeros(10)\n",
        "# on tire au sort 10 fois une valeur dans l'ensemble {1, 3, 5}\n",
        "for i in range(10):\n",
        "  val[i]=np.random.choice([1,3,5])\n",
        "_, count = np.unique(val,return_counts=True)\n",
        "print(\"résultat des 10 tirages:\", val)\n",
        "print(\"la proportion de chaque valeur sur ces 10 tirages est \", count/10)\n",
        "indices3 = np.argwhere(val==3)\n",
        "print(\"Les indices de la liste val où la valeur est 3 sont:\", indices3)\n",
        "\n",
        "def eps_greedy(qtable, epsilon, n_actions, state):\n",
        "   if np.random.random() <= epsilon:\n",
        "      return np.random.randint(n_actions)\n",
        "   else:\n",
        "      return np.argmax(qtable[state, :])\n",
        "        \n"
      ],
      "execution_count": null,
      "outputs": [
        {
          "output_type": "stream",
          "name": "stdout",
          "text": [
            "0.23010303640948337\n",
            "résultat des 10 tirages: [5. 3. 3. 5. 5. 5. 3. 1. 3. 5.]\n",
            "la proportion de chaque valeur sur ces 10 tirages est  [0.1 0.4 0.5]\n",
            "Les indices de la liste val où la valeur est 3 sont: [[1]\n",
            " [2]\n",
            " [6]\n",
            " [8]]\n"
          ]
        }
      ]
    },
    {
      "cell_type": "code",
      "source": [
        "qtable = np.zeros((env.observation_space.n, env.action_space.n))\n",
        "for i in range(1000):\n",
        "  state=env.reset()\n",
        "  eps_greedy(qtable,0.9,4,state)\n",
        "qtable  "
      ],
      "metadata": {
        "colab": {
          "base_uri": "https://localhost:8080/"
        },
        "id": "qRAUwB-YD2gG",
        "outputId": "17362322-6bbb-4432-c2e2-404859de5139"
      },
      "execution_count": null,
      "outputs": [
        {
          "output_type": "execute_result",
          "data": {
            "text/plain": [
              "array([[0., 0., 0., 0.],\n",
              "       [0., 0., 0., 0.],\n",
              "       [0., 0., 0., 0.],\n",
              "       [0., 0., 0., 0.],\n",
              "       [0., 0., 0., 0.],\n",
              "       [0., 0., 0., 0.],\n",
              "       [0., 0., 0., 0.],\n",
              "       [0., 0., 0., 0.],\n",
              "       [0., 0., 0., 0.],\n",
              "       [0., 0., 0., 0.],\n",
              "       [0., 0., 0., 0.],\n",
              "       [0., 0., 0., 0.],\n",
              "       [0., 0., 0., 0.],\n",
              "       [0., 0., 0., 0.],\n",
              "       [0., 0., 0., 0.],\n",
              "       [0., 0., 0., 0.]])"
            ]
          },
          "metadata": {},
          "execution_count": 18
        }
      ]
    },
    {
      "cell_type": "markdown",
      "metadata": {
        "id": "4HKc6m_afc89"
      },
      "source": [
        "## Tester une politique\n",
        "\n",
        "Lors de l'apprentissage, il est nécessaire d'explorer, ainsi lorsqu'on analyse les performances durant l'apprentissage, il faut avoir à l'esprit qu'une partie des choix est faite au hasard. Après avoir appris, on peut faire un test en étant glouton: à chaque état, on choisit toujours l'action qui donne la plus haute valeur de `Q`.\n",
        "Implémentez une méthode qui prend en paramètre un nombre d'épisodes fixé, une table `Q`, et qui exécute la politique gloutone. La méthode retourne la valeur moyenne de la somme des récompenses sur l'épisode."
      ]
    },
    {
      "cell_type": "code",
      "metadata": {
        "id": "zOYzTAq3gZxY",
        "colab": {
          "base_uri": "https://localhost:8080/"
        },
        "outputId": "a05c9bbf-cb75-4909-a54f-d76d496a0d1b"
      },
      "source": [
        "qtable = np.zeros((env.observation_space.n, env.action_space.n))\n",
        "episodes =100\n",
        "epsilon=1\n",
        "alpha =0.02\n",
        "gamma=0.9\n",
        "success=0\n",
        "\n",
        "for i in range(1000):\n",
        "  state = env.reset()\n",
        "  a=eps_greedy(qtable,epsilon,4,state)\n",
        "  done= False\n",
        "  while not done:\n",
        "    s_, reward, done, _ = env.step(a)\n",
        "    a_=eps_greedy(qtable,epsilon,4,s_)\n",
        "    qtable[state,a] += alpha * (reward + (gamma * qtable[s_, a_]) - qtable[state, a])\n",
        "    s=s_\n",
        "    a=a_\n",
        "    success += reward\n",
        "    \n",
        "    \n",
        "env.close()\n",
        "qtable\n",
        "\n",
        "\n",
        "    \n",
        "\n"
      ],
      "execution_count": null,
      "outputs": [
        {
          "output_type": "execute_result",
          "data": {
            "text/plain": [
              "array([[0.00113464, 0.00016079, 0.00598269, 0.00082695],\n",
              "       [0.        , 0.        , 0.        , 0.        ],\n",
              "       [0.        , 0.        , 0.        , 0.        ],\n",
              "       [0.        , 0.        , 0.        , 0.        ],\n",
              "       [0.        , 0.        , 0.        , 0.        ],\n",
              "       [0.        , 0.        , 0.        , 0.        ],\n",
              "       [0.        , 0.        , 0.        , 0.        ],\n",
              "       [0.        , 0.        , 0.        , 0.        ],\n",
              "       [0.        , 0.        , 0.        , 0.        ],\n",
              "       [0.        , 0.        , 0.        , 0.        ],\n",
              "       [0.        , 0.        , 0.        , 0.        ],\n",
              "       [0.        , 0.        , 0.        , 0.        ],\n",
              "       [0.        , 0.        , 0.        , 0.        ],\n",
              "       [0.        , 0.        , 0.        , 0.        ],\n",
              "       [0.        , 0.        , 0.        , 0.        ],\n",
              "       [0.        , 0.        , 0.        , 0.        ]])"
            ]
          },
          "metadata": {},
          "execution_count": 19
        }
      ]
    },
    {
      "cell_type": "code",
      "source": [
        "success_rate=success/1000\n",
        "print(success_rate)"
      ],
      "metadata": {
        "colab": {
          "base_uri": "https://localhost:8080/"
        },
        "id": "RtJJPrEICmmi",
        "outputId": "ce38b69f-d5bb-4c4c-bfff-5da960c1bc36"
      },
      "execution_count": null,
      "outputs": [
        {
          "output_type": "stream",
          "name": "stdout",
          "text": [
            "0.015\n"
          ]
        }
      ]
    },
    {
      "cell_type": "code",
      "source": [],
      "metadata": {
        "id": "lXfcmn4E-5kT"
      },
      "execution_count": null,
      "outputs": []
    },
    {
      "cell_type": "markdown",
      "metadata": {
        "id": "7JISzKV0alpV"
      },
      "source": [
        "### SARSA\n",
        "\n",
        "Implémentez un fonction SARSA qui prend en paramètre\n",
        " * un nombre d'épisodes utilisés pour l'apprentissage\n",
        " * $\\gamma$ le taux d'escompte\n",
        " * $\\alpha$ le taux d'apprentissage (que l'on retrouve lors de la mise à jour des valeurs de Q)\n",
        " * $\\epsilon$ le paramètre pour la méthode $\\epsilon$-greedy.\n",
        "\n",
        "Votre fonction doit au moins retourner la table $Q: S \\times A$. Vous trouverez ci-dessous une fonction $plotQ$ qui génère une représentation de la table $Q$: pour chaque case sera dessiné la meilleure action selon $Q$ et la couleur représentera la valeur de cette action.\n",
        " \n",
        "Pour visualiser les progrès faits pendant l'apprentissage, votre fonction SARSA peut également retourner une séquence de valeurs. Par exemple,\n",
        " * la séquence de récompenses (totale ou moyenne) obtenue sur chaque épisode de l'apprentissage\n",
        " * la valeur de la meilleure action pour l'état de départ à chaque fin d'épisode.\n",
        " * au lieu d'utiliser les valeurs obtenues lors de l'apprentissage, vous pouvez aussi effectuer périodiquement une évaluation de la politique courante (sans exploration). Pour ce faire, vous pouvez calculer la performance sur un petit nombre d'épisodes et retourner la moyenne. Cette méthode a l'avantage d'évaluer la politique sans exploration (donc une meilleure évaluation de la politique), mais peut coûter cher en temps de calcul suivant la fréquence d'exécution et le nombre d'épisodes utilisés pour l'évaluation.\n",
        "\n",
        "En générant le graphique, vous devriez visualiser si l'algorithme est arrivé à améliorer les performances. Vous pouvez soit tracer directement la valeur de chaque épisode. Pour avoir une courbe un peu plus lisse, vous pouvez aussi calculer une moyenne sur une fenêtre de $k$ épisodes (la fonction $runningAvg$ effectue ce travail).\n",
        "\n",
        "Notez qu'on considère Frozen lake comme résolu quand\n",
        " * il atteint le but dans 78% des épisodes pour la grille 4x4.\n",
        " * a priori, on peut atteindre 100% pour la grille 8x8\n",
        "\n",
        "Quelques idées pour aider au debeug:\n",
        " * vous pouvez aussi regarder si la plupart des paires état-actions ont été exécutée. \n",
        " * Vous pouvez choisir comme paramètres (le code que j'ai écrit a fonctionné avec ces paramètres, évidemment, vous pouvez essayer avec d'autres par la suite).\n",
        "   * $\\epsilon=0.2$\n",
        "   * $\\alpha=0.02$\n",
        "   * Frozen lake est une tâche épisodique, donc ici, on peut s'intéresser simplement à la somme des récompenses accumulées lors d'un épisode. Donc on peut choisir $\\gamma=1$ (pas d'escompte)."
      ]
    },
    {
      "cell_type": "code",
      "source": [
        "def choose_action(state):\n",
        "\taction=0\n",
        "\tif np.random.uniform(0, 1) < epsilon:\n",
        "\t\taction = env.action_space.sample()\n",
        "\telse:\n",
        "\t\taction = np.argmax(Q[state, :])\n",
        "\treturn action\n",
        "\n",
        "def learn(state, state2, reward, action, action2):\n",
        "\tpredict = Q[state, action]\n",
        "\ttarget = reward + gamma * Q[state2, action2]\n",
        "\tQ[state, action] = Q[state, action] + lr_rate * (target - predict)"
      ],
      "metadata": {
        "id": "wmwTVHvPOX6F"
      },
      "execution_count": null,
      "outputs": []
    },
    {
      "cell_type": "code",
      "source": [
        "\n",
        "epsilon = 0.2\n",
        "total_episodes = 10000\n",
        "max_steps = 100\n",
        "lr_rate = 0.02\n",
        "gamma = 1\n",
        "\n",
        "Q = np.zeros((env.observation_space.n, env.action_space.n))\n",
        "    \n",
        "rewards=0\n",
        "\n",
        "for episode in range(total_episodes):\n",
        "\tt = 0\n",
        "\tstate = env.reset()\n",
        "\taction = choose_action(state)\n",
        "    \n",
        "\twhile t < max_steps:\n",
        "\t\n",
        "\n",
        "\t\tstate2, reward, done, info = env.step(action)\n",
        "\n",
        "\t\taction2 = choose_action(state2)\n",
        "\n",
        "\t\tlearn(state, state2, reward, action, action2)\n",
        "\n",
        "\t\tstate = state2\n",
        "\t\taction = action2\n",
        "\n",
        "\t\tt += 1\n",
        "\t\trewards+=1\n",
        "\n",
        "\t\tif done:\n",
        "\t\t\tbreak\n",
        "  \n",
        "\n",
        "    \n",
        "print (\"Score over time: \", rewards/total_episodes)\n",
        "print(Q)"
      ],
      "metadata": {
        "colab": {
          "base_uri": "https://localhost:8080/"
        },
        "id": "iYcdudnRMKge",
        "outputId": "84097da0-aa8f-4e50-8c87-d03ca9062ab4"
      },
      "execution_count": null,
      "outputs": [
        {
          "output_type": "stream",
          "name": "stdout",
          "text": [
            "Score over time:  18.32\n",
            "[[0.24726913 0.21915649 0.21817943 0.21327247]\n",
            " [0.13187978 0.13004694 0.10694792 0.18414812]\n",
            " [0.16606145 0.12774713 0.11577697 0.10873035]\n",
            " [0.00590595 0.05326795 0.00388758 0.01159494]\n",
            " [0.26240479 0.18554864 0.16783445 0.15761809]\n",
            " [0.         0.         0.         0.        ]\n",
            " [0.14377359 0.08659188 0.14098436 0.0530235 ]\n",
            " [0.         0.         0.         0.        ]\n",
            " [0.16926198 0.24675745 0.20163162 0.29941134]\n",
            " [0.27476796 0.4120388  0.28504613 0.24762128]\n",
            " [0.40786575 0.37346903 0.23382787 0.15820014]\n",
            " [0.         0.         0.         0.        ]\n",
            " [0.         0.         0.         0.        ]\n",
            " [0.26297223 0.4137163  0.54131163 0.37597208]\n",
            " [0.53892376 0.72966687 0.6397551  0.60721624]\n",
            " [0.         0.         0.         0.        ]]\n"
          ]
        }
      ]
    },
    {
      "cell_type": "code",
      "metadata": {
        "id": "lBPUTjtTXpyZ"
      },
      "source": [
        "def runningAvg(data, windowSize):\n",
        "  res = np.zeros(len(data)-windowSize)\n",
        "  sum=0\n",
        "  for i in range(windowSize):\n",
        "    sum += data[i]\n",
        "  for i in range(len(data)-windowSize):\n",
        "    res[i]= sum/windowSize\n",
        "    sum -= data[i]\n",
        "    sum += data[i+windowSize]\n",
        "  return res\n",
        "\n",
        "\n",
        "# visualisation de la table Q pour FrozenLake 4x4 et 8x8\n",
        "# passez la taille (4 ou 8) en paramètres\n",
        "def plotQ(q_table, map_size):\n",
        "  if (map_size==4):\n",
        "    MAP = [\n",
        "        \"SFFF\",\n",
        "        \"FHFH\",\n",
        "        \"FFFF\",\n",
        "        \"HFFG\"\n",
        "    ]\n",
        "  else:\n",
        "    MAP=[\n",
        "        \"SFFFFFFF\",\n",
        "        \"FFFFFFFF\",\n",
        "        \"FFFHFFFF\",\n",
        "        \"FFFFFHFF\",\n",
        "        \"FFFHFFFF\",\n",
        "        \"FHHFFFHF\",\n",
        "        \"FHFFHFHF\",\n",
        "        \"FFFHFFFG\"\n",
        "    ]\n",
        "  best_value = np.max(q_table, axis = 1).reshape((map_size,map_size))\n",
        "  best_policy = np.argmax(q_table, axis = 1).reshape((map_size,map_size))\n",
        "    \n",
        "  fig, ax = plt.subplots()\n",
        "  im = ax.imshow(best_value)\n",
        "\n",
        "  for i in range(best_value.shape[0]):\n",
        "      for j in range(best_value.shape[1]):\n",
        "          if MAP[i][j] in 'GH':\n",
        "              arrow = MAP[i][j]\n",
        "          elif best_policy[i, j] == 0:\n",
        "              arrow = '<'\n",
        "          elif best_policy[i, j] == 1:\n",
        "              arrow = 'v'\n",
        "          elif best_policy[i, j] == 2:\n",
        "              arrow = '>'\n",
        "          elif best_policy[i, j] == 3:\n",
        "              arrow = '^'\n",
        "          if MAP[i][j] in 'S':\n",
        "              arrow = 'S ' + arrow\n",
        "          text = ax.text(j, i, arrow, ha = \"center\", va = \"center\",\n",
        "                         color = \"black\")\n",
        "            \n",
        "  cbar = ax.figure.colorbar(im, ax = ax)\n",
        "    \n",
        "  fig.tight_layout()\n",
        "  plt.show() "
      ],
      "execution_count": null,
      "outputs": []
    },
    {
      "cell_type": "code",
      "source": [
        "plotQ(Q,4)"
      ],
      "metadata": {
        "colab": {
          "base_uri": "https://localhost:8080/",
          "height": 297
        },
        "id": "408YUsDJNsKA",
        "outputId": "757c8494-8559-45e0-a3fb-285028fa9adb"
      },
      "execution_count": null,
      "outputs": [
        {
          "output_type": "display_data",
          "data": {
            "text/plain": [
              "<Figure size 432x288 with 2 Axes>"
            ],
            "image/png": "[encoded data removed]"
          },
          "metadata": {
            "needs_background": "light"
          }
        }
      ]
    },
    {
      "cell_type": "markdown",
      "metadata": {
        "id": "oal2LS2mG3qW"
      },
      "source": [
        "## Q-learning\n",
        "Implémentez l'algorithme Q-learning (en partant de SARSA, il ne devrait y avoir que quelques lignes de codes à modidier!)\n",
        "\n"
      ]
    },
    {
      "cell_type": "code",
      "metadata": {
        "id": "vZ8bmLd8pxjD"
      },
      "source": [
        "def choose_action(state):\n",
        "    action=0\n",
        "    if np.random.uniform(0, 1) < epsilon:\n",
        "        action = env.action_space.sample()\n",
        "    else:\n",
        "        action = np.argmax(Q[state, :])\n",
        "    return action\n",
        "\n",
        "def learn(state, state2, reward, action):\n",
        "    predict = Q[state, action]\n",
        "    target = reward + gamma * np.max(Q[state2, :])\n",
        "    Q[state, action] = Q[state, action] + lr_rate * (target - predict)"
      ],
      "execution_count": null,
      "outputs": []
    },
    {
      "cell_type": "code",
      "source": [
        "epsilon = 0.2\n",
        "total_episodes = 10000\n",
        "max_steps = 100\n",
        "lr_rate = 0.02\n",
        "gamma = 1\n",
        "\n",
        "Q = np.zeros((env.observation_space.n, env.action_space.n))\n",
        "rewards = 0\n",
        "for episode in range(total_episodes):\n",
        "    state = env.reset()\n",
        "    t = 0\n",
        "    \n",
        "    while t < max_steps:\n",
        "        \n",
        "\n",
        "        action = choose_action(state)  \n",
        "\n",
        "        state2, reward, done, info = env.step(action)  \n",
        "\n",
        "        learn(state, state2, reward, action)\n",
        "\n",
        "        state = state2\n",
        "\n",
        "        t += 1\n",
        "        rewards +=1\n",
        "       \n",
        "        if done:\n",
        "            break\n",
        "\n",
        "        \n",
        "\n",
        "print(Q)"
      ],
      "metadata": {
        "colab": {
          "base_uri": "https://localhost:8080/"
        },
        "id": "vQ173yOXPlA7",
        "outputId": "1a8297ca-b2fc-4df4-e0aa-ea118bd9ee50"
      },
      "execution_count": null,
      "outputs": [
        {
          "output_type": "stream",
          "name": "stdout",
          "text": [
            "[[0.74621715 0.69038361 0.67748297 0.70760257]\n",
            " [0.37971567 0.34936591 0.29473295 0.59657038]\n",
            " [0.47927884 0.20518891 0.20283125 0.22370903]\n",
            " [0.11126798 0.01561491 0.00251317 0.01502057]\n",
            " [0.74737861 0.48454618 0.42466442 0.50921004]\n",
            " [0.         0.         0.         0.        ]\n",
            " [0.39573082 0.16096012 0.20109601 0.12490983]\n",
            " [0.         0.         0.         0.        ]\n",
            " [0.48251948 0.51746773 0.50395191 0.75158804]\n",
            " [0.51457461 0.76207467 0.55685248 0.45796215]\n",
            " [0.72012187 0.47257844 0.35558776 0.33908536]\n",
            " [0.         0.         0.         0.        ]\n",
            " [0.         0.         0.         0.        ]\n",
            " [0.47309911 0.52057716 0.83114926 0.57171652]\n",
            " [0.72459736 0.92712951 0.81183461 0.78057493]\n",
            " [0.         0.         0.         0.        ]]\n"
          ]
        }
      ]
    },
    {
      "cell_type": "code",
      "source": [
        "plotQ(Q,4)"
      ],
      "metadata": {
        "colab": {
          "base_uri": "https://localhost:8080/",
          "height": 297
        },
        "id": "JfnbaKTrQQEV",
        "outputId": "35e99492-466f-4dd3-c30a-37ef919e82c8"
      },
      "execution_count": null,
      "outputs": [
        {
          "output_type": "display_data",
          "data": {
            "text/plain": [
              "<Figure size 432x288 with 2 Axes>"
            ],
            "image/png": "[encoded data removed]"
          },
          "metadata": {
            "needs_background": "light"
          }
        }
      ]
    },
    {
      "cell_type": "markdown",
      "metadata": {
        "id": "nixgMInoHHtz"
      },
      "source": [
        "## Comparaison\n",
        "\n",
        "Comparer les politiques trouvées à l'aide de SARSA, Q-learning, et vous devriez aussi pouvoir utiliser le code de l'algorithme on policy Monte Carlo du TD précédent.\n",
        "\n",
        "Avant convergence à l'optimal, on observe souvent que SARSA a choisi une politique moins risquée avant de tomber sur l'optimal pour le FrozenLake8x8."
      ]
    },
    {
      "cell_type": "markdown",
      "metadata": {
        "id": "vMtevQsXpGUX"
      },
      "source": [
        "## Cart-pole en tabulaire\n",
        "\n",
        "On vous propose pour finir d'utiliser votre code et de tester l'apprentissage sur le problème du cart-pole. A priori, c'est un problème où les états sont des variables continues. On vous propose ici de discrétiser les variables et d'essayer d'utiliser une des méthodes pour voir vos résultats. \n",
        "\n",
        "La récompense que vous obtenez est le nombre de pas de temps où le baton est resté en équilibre. Si vous utilisez colab pour coder, vous ne pourrez malheureusement pas visualiser un épisode avec la méthode render :-(\n",
        "\n",
        "Cet environnement Cart-Pole consiste à déplacer un chariot pour faire tenir en équilibre une poutre. Plus précisément:\n",
        "* Il y a deux actions : gauche et droite (représentées par 0 et 1).\n",
        "* L'observation reçue (c'est à dire l'état) est un tableau numpy comprenant 4 variables: la position du chariot, la vélocité, l'angle à la verticale et la position du haut de la poutre.\n",
        "* L'épisode se termine lorsque l'angle de la poutre à la verticale dépasse 12 degrés.\n",
        "* Les récompenses reçues sont égales à 1 sauf si l'angle dépasse 12 degrés.\n",
        "\n",
        "On vous donne ci-dessous les fonctions pour réaliser la discrétisation et pour encoder l'état en un entier.\n"
      ]
    },
    {
      "cell_type": "code",
      "metadata": {
        "id": "ep-nyEsPtxi2",
        "colab": {
          "base_uri": "https://localhost:8080/",
          "height": 102
        },
        "outputId": "a7c353ae-ee4e-4fec-977f-5ad939cd042c"
      },
      "source": [
        "env = gym.make(\"CartPole-v1\")\n",
        "print(\"environnement avec \", env.action_space.n, \" actions\")\n",
        "print(\"l'espace des états est lui codé avec une class\", env.observation_space,\n",
        "      \" qui représente un espace continu\")\n",
        "print(\"les bornes inférieures des intervalles sont: \", env.observation_space.low)\n",
        "print(\"les bornes supérieures des intervalles sont: \",env.observation_space.high)\n",
        "env.reset()\n",
        "nbIt=0\n",
        "done=False\n",
        "while not done:\n",
        "  observation, reward, done, info = env.step(np.random.randint(2))\n",
        "  nbIt+=1\n",
        "print(\"Episode terminé après {} itérations\".format(nbIt))\n",
        "env.close()"
      ],
      "execution_count": null,
      "outputs": [
        {
          "output_type": "stream",
          "text": [
            "environnement avec  2  actions\n",
            "l'espace des états est lui codé avec une class Box(4,)  qui représente un espace continu\n",
            "les bornes inférieures des intervalles sont:  [-4.8000002e+00 -3.4028235e+38 -4.1887903e-01 -3.4028235e+38]\n",
            "les bornes supérieures des intervalles sont:  [4.8000002e+00 3.4028235e+38 4.1887903e-01 3.4028235e+38]\n",
            "Episode terminé après 16 itérations\n"
          ],
          "name": "stdout"
        }
      ]
    },
    {
      "cell_type": "code",
      "metadata": {
        "id": "mDMbbzDrqCrV"
      },
      "source": [
        "def discretise(x,mini,maxi): \n",
        "  # discretise x\n",
        "  # renvoie un entier entre 0 et nval-1\n",
        "  if x<mini: x=mini\n",
        "  if x>maxi: x=maxi\n",
        "  return int(np.floor((x-mini)*nval/(maxi-mini+0.0001)))\n",
        "\n",
        "def encode(observation):\n",
        "  pos = discretise(observation[0],mini=-1,maxi=1)\n",
        "  vel = discretise(observation[1],mini=-1,maxi=1)\n",
        "  angle = discretise(observation[2],mini=-1,maxi=1)\n",
        "  pos2 = discretise(observation[3],mini=-1,maxi=1)\n",
        "  return pos + vel*nval + angle*nval*nval + pos2*nval*nval*nval\n",
        "  "
      ],
      "execution_count": null,
      "outputs": []
    },
    {
      "cell_type": "code",
      "metadata": {
        "id": "h0z0VtgYq-fv",
        "colab": {
          "base_uri": "https://localhost:8080/",
          "height": 34
        },
        "outputId": "ca11696a-3569-4f08-cac8-25d59210e8c6"
      },
      "source": [
        "nval =5 # nombre de valeurs discrètes qu’une variable peut prendre\n",
        "N= nval ** 4 # Puisqu’il y a 4 variables, la taille de l’espace est nval^4\n",
        "print(\"Le nombre d'états sera ici de \", N)"
      ],
      "execution_count": null,
      "outputs": [
        {
          "output_type": "stream",
          "text": [
            "Le nombre d'états sera ici de  625\n"
          ],
          "name": "stdout"
        }
      ]
    },
    {
      "cell_type": "markdown",
      "metadata": {
        "id": "1Sq12HjSrgNw"
      },
      "source": [
        "Modifiez votre implémentation de Q-learning et/ou de SARSA pour tester si vous pouvez apprendre à maintenier le baton en équilibre. Une modification sera d'utilisé les fonctions ci-dessus pour encoder/decoder un état. Une autre sera surement d'ajouter le nombre d'états en paramètre car ce nombre est maintenant indépendant de l'environnement! \n",
        "Avec comme paramètre $\\epsilon=0.1$, $\\alpha=0.2$ et $\\gamma=0.9$, j'arrive a atteindre un score autour de 90 pas de temps."
      ]
    },
    {
      "cell_type": "code",
      "metadata": {
        "id": "ythSnUmaIEIs"
      },
      "source": [],
      "execution_count": null,
      "outputs": []
    }
  ]
}