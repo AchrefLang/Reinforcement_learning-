{
  "nbformat": 4,
  "nbformat_minor": 0,
  "metadata": {
    "colab": {
      "provenance": []
    },
    "kernelspec": {
      "name": "python3",
      "display_name": "Python 3"
    }
  },
  "cells": [
    {
      "cell_type": "markdown",
      "metadata": {
        "id": "GqDAHSx_XFh9"
      },
      "source": [
        "# Value Iteration & Policy Iteration"
      ]
    },
    {
      "cell_type": "markdown",
      "metadata": {
        "id": "BeCbCndGXPr_"
      },
      "source": [
        "On va utiliser l'exemple du monde grille simple. \n",
        "\n",
        "![Grid World](https://www.lamsade.dauphine.fr/~airiau/Teaching/M2-IASDapp-RL/gridworld.png)\n",
        "\n",
        "\n",
        "\n",
        "On va numéroter les états comme suit:\n",
        "\n",
        "| 7 | 8 | 9 | 10 |\n",
        "|---|---|----|---|\n",
        "| **4** |  - | **5** | **6**  |\n",
        "| **0** | **1** | **2** | **3**  |\n",
        "\n",
        "Les états finaux sont donc les états 6 et 10.\n",
        "\n",
        "On a 4 actions disponibles, on les encode de la façon suivante:\n",
        "* $\\uparrow$: 0 \n",
        "* $\\leftarrow$ : 1\n",
        "* $\\downarrow$: 2\n",
        "* $\\rightarrow$ : 3\n",
        "\n",
        "Ci-dessous, on a entré pour vous la matrice de transition $T$ et la matrice de récompense $R$. Ainsi $T[s_1,a,s_2]$ donne la probabilité d'atteindre l'état $s_2$ en ayant pris l'action $a$ dans l'état $s_1$ et $R[s,a]$ donne la récompense immédiate reçue après avoir pris l'action $a$ dans l'état $s$.\n",
        "\n",
        "Vous pouvez facilement changer la pénalité pour avancer d'une case en changeant la valeur de la variable `penalty` ci-dessous.\n",
        "\n",
        "Ce n'est peut-être pas la manière la plus élégante, mais cela suffira pour l'exercice!\n",
        "\n"
      ]
    },
    {
      "cell_type": "code",
      "metadata": {
        "id": "AGGujRrVXEe3"
      },
      "source": [
        "import numpy as np\n",
        "import matplotlib.pyplot as plt\n",
        "\n",
        "\n",
        "l=0.8\n",
        "s = 0.1\n",
        "v_win = 1\n",
        "v_lose = -1\n",
        "\n",
        "T = np.zeros((11, 4, 11))\n",
        "#UP\n",
        "T[0,0,:]=[s, s, 0, 0, l, 0, 0, 0, 0, 0, 0 ] \n",
        "T[1,0,:]=[s, l, s, 0, 0, 0, 0, 0, 0, 0, 0 ]\n",
        "T[2,0,:]=[0, s, 0, s, 0, l, 0, 0, 0, 0, 0 ]\n",
        "T[3,0,:]=[0, 0, s, s, 0, 0, l, 0, 0, 0, 0 ]\n",
        "T[4,0,:]=[0, 0, 0, 0, 2*s, 0, 0, l, 0, 0, 0 ]\n",
        "T[5,0,:]=[0, 0, 0, 0, 0, s, s, 0, 0, l, 0 ]\n",
        "T[6,0,:]=[0, 0, 0, 0, 0, 0, 0, 0, 0, 0, 0 ]\n",
        "T[7,0,:]=[0, 0, 0, 0, 0, 0, 0, s+l, s, 0, 0 ]\n",
        "T[8,0,:]=[0, 0, 0, 0, 0, 0, 0, s, l, s, 0 ]\n",
        "T[9,0,:]=[0, 0, 0, 0, 0, 0, 0, 0, s, l, s ]\n",
        "T[10,0,:]=[0, 0, 0, 0, 0, 0, 0, 0, 0, 0,0 ]\n",
        "#LEFT\n",
        "T[0,1,:]=[s+l, 0, 0, 0, s, 0, 0, 0, 0, 0, 0 ] \n",
        "T[1,1,:]=[l, 2*s, 0, 0, 0, 0, 0, 0, 0, 0, 0 ]\n",
        "T[2,1,:]=[0, l, s, 0, 0, s, 0, 0, 0, 0, 0 ]\n",
        "T[3,1,:]=[0, 0, l, s, 0, 0, s, 0, 0, 0, 0 ]\n",
        "T[4,1,:]=[s, 0, 0, 0, l, 0, 0, s, 0, 0, 0 ]\n",
        "T[5,1,:]=[0, 0, s, 0, 0, l, 0, 0, 0, s, 0 ]\n",
        "T[6,1,:]=[0, 0, 0, 0, 0, 0, 0, 0, 0, 0, 0 ]\n",
        "T[7,1,:]=[0, 0, 0, 0, s, 0, 0, s+l, 0, 0, 0 ]\n",
        "T[8,1,:]=[0, 0, 0, 0, 0, 0, 0, l, 2*s, 0, 0 ]\n",
        "T[9,1,:]=[0, 0, 0, 0, 0, s, 0, 0, l, s, 0 ]\n",
        "T[10,1,:]=[0, 0, 0, 0, 0, 0, 0, 0, 0, 0,0 ]\n",
        "# DOWN\n",
        "T[0,2,:]=[s+l, s, 0, 0, 0, 0, 0, 0, 0, 0, 0 ] \n",
        "T[1,2,:]=[s, l, s, 0, 0, 0, 0, 0, 0, 0, 0 ]\n",
        "T[2,2,:]=[0, s, l, s, 0, 0, 0, 0, 0, 0, 0 ]\n",
        "T[3,2,:]=[0, 0, s, l+s, 0, 0, 0, 0, 0, 0, 0 ]\n",
        "T[4,2,:]=[l, 0, 0, 0, 2*s, 0, 0, 0, 0, 0, 0 ]\n",
        "T[5,2,:]=[0, 0, l, 0, 0, s, s, 0, 0, 0, 0 ]\n",
        "T[6,2,:]=[0, 0, 0, 0, 0, 0, 0, 0, 0, 0, 0 ]\n",
        "T[7,2,:]=[0, 0, 0, 0, l, 0, 0, s, s, 0, 0 ]\n",
        "T[8,2,:]=[0, 0, 0, 0, 0, 0, 0, s, l, s, 0 ]\n",
        "T[9,2,:]=[0, 0, 0, 0, 0, 0, 0, 0, s, l, s ]\n",
        "T[10,2,:]=[0, 0, 0, 0, 0, 0, 0, 0, 0, 0,0 ]\n",
        "#RIGHT\n",
        "T[0,3,:]=[s, l, 0, 0, s, 0, 0, 0, 0, 0, 0 ] \n",
        "T[1,3,:]=[0, 2*s, l, 0, 0, 0, 0, 0, 0, 0, 0 ]\n",
        "T[2,3,:]=[0, 0, s, l, 0, s, 0, 0, 0, 0, 0 ]\n",
        "T[3,3,:]=[0, 0, 0, s+l, 0, 0, s, 0, 0, 0, 0 ]\n",
        "T[4,3,:]=[s, 0, 0, 0, l, 0, 0, s, 0, 0, 0 ]\n",
        "T[5,3,:]=[0, 0, s, 0, 0, 0, l, 0, 0, s, 0 ]\n",
        "T[6,3,:]=[0, 0, 0, 0, 0, 0, 0, 0, 0, 0, 0 ]\n",
        "T[7,3,:]=[0, 0, 0, 0, s, 0, 0, s, l, 0, 0 ]\n",
        "T[8,3,:]=[0, 0, 0, 0, 0, 0, 0, 0, 2*s, l, 0 ]\n",
        "T[9,3,:]=[0, 0, 0, 0, 0, s, 0, 0, 0, s, l ]\n",
        "T[10,3,:]=[0, 0, 0, 0, 0, 0, 0, 0, 0, 0,0 ]\n",
        "\n",
        "penalty= 0.00;\n",
        "R = penalty*np.ones((11,4))\n",
        "R[10,:]= np.ones(4)*v_win\n",
        "R[6,:]= np.ones(4)*v_lose\n"
      ],
      "execution_count": 1,
      "outputs": []
    },
    {
      "cell_type": "code",
      "source": [],
      "metadata": {
        "id": "MG7BuJ3vdNBQ"
      },
      "execution_count": 1,
      "outputs": []
    },
    {
      "cell_type": "markdown",
      "metadata": {
        "id": "10zkeVqGtFpO"
      },
      "source": [
        "## Value Iteration\n",
        "Implémentez l'algorithme d'itération sur les valeurs. Pour ce faire, implémentez une fonction qui prend en paramètre:\n",
        "* $\\epsilon$ le paramètre pour le test d'arrêt (dans un premier temps, vous pouvez remplacer ce paramètre par un nombre d'itérations maximal, comme dans l'appel ci-dessou)\n",
        "* $\\gamma$ le taux d'escompte (i.e. la valeur à l'instant t d'obtenir une unité de récompense à l'instant t+1)\n",
        "* $T$ la matrice de transition\n",
        "* $R$ la matrice de récompense\n",
        "\n",
        "La méthode retourne le vecteur $v: S \\rightarrow {\\mathbb R}$ qui associe à chaque état la valeur optimale de cet état.\n",
        "\n",
        "La fonction $printV$ ci-dessous affichera les valeurs de $v$ pour le problème du gridworld.\n",
        "\n",
        "Vous pourrez ainsi tester si vous retrouvez les valeurs de l'exemple montré en cours. "
      ]
    },
    {
      "cell_type": "code",
      "metadata": {
        "id": "y2iqnIKhlg2k"
      },
      "source": [
        "def printV(v):\n",
        "  print('| {:03.2f} | {:03.2f} | {:03.2f} | {:03.2f} |'.format(v[7], v[8], v[9], v[10]))\n",
        "  print('| {:03.2f} | ---- | {:03.2f} | {:03.1f} |'.format(v[4], v[5], v[6]))\n",
        "  print('| {:03.2f} | {:03.2f} | {:03.2f} | {:03.2f} |'.format(v[0], v[1], v[2], v[3]))\n",
        "  "
      ],
      "execution_count": 2,
      "outputs": []
    },
    {
      "cell_type": "code",
      "source": [
        "def valueIteration(delta,gamma,T,R):\n",
        "  v=np.zeros(11)\n",
        "  for i in range(1000):\n",
        "    for j in range(11):\n",
        "      v[j]=np.max(R[j,:]+gamma*np.dot(T[j,:,:],v[:]))\n",
        "  return v    \n",
        "\n"
      ],
      "metadata": {
        "id": "q57_bi9MVUGp"
      },
      "execution_count": 3,
      "outputs": []
    },
    {
      "cell_type": "markdown",
      "source": [],
      "metadata": {
        "id": "INOuaXtCb_op"
      }
    },
    {
      "cell_type": "code",
      "metadata": {
        "id": "ai_RjaGylVnM",
        "colab": {
          "base_uri": "https://localhost:8080/"
        },
        "outputId": "41c843be-f2ad-4ede-b2de-5d2ff9a02db2"
      },
      "source": [
        "w = valueIteration(100, 0.9, T, R)\n",
        "printV(w)"
      ],
      "execution_count": 4,
      "outputs": [
        {
          "output_type": "stream",
          "name": "stdout",
          "text": [
            "| 0.64 | 0.74 | 0.85 | 1.00 |\n",
            "| 0.57 | ---- | 0.57 | -1.0 |\n",
            "| 0.49 | 0.43 | 0.48 | 0.28 |\n"
          ]
        }
      ]
    },
    {
      "cell_type": "code",
      "metadata": {
        "id": "jvibNWnFzAQO"
      },
      "source": [
        "# plot the best policy given the value function v:\n",
        "# i.e. plot the best action for each state given the value function v.\n",
        "\n",
        "def plotBestPolicy(v, gamma):\n",
        "  bestV=np.zeros(11)\n",
        "  bestA=np.zeros(11)\n",
        "  fig, ax = plt.subplots()\n",
        "  # policy extraction\n",
        "  for s1 in range(11):\n",
        "    val=[]\n",
        "    for a in range(4):\n",
        "      va=0\n",
        "      for s2 in range(11):\n",
        "        va += T[s1,a,s2]*v[s2]\n",
        "      val= val+[ R[s1,a]+gamma*va ]\n",
        "    bestV[s1]=np.max(val)\n",
        "    bestA[s1]=np.argmax(val)\n",
        "\n",
        "    matV= np.array( [[bestV[7], bestV[8], bestV[9], bestV[10]],\n",
        "                    [bestV[4],   -1 , bestV[5], bestV[6]],\n",
        "                    [bestV[0], bestV[1], bestV[2], bestV[3]]]\n",
        "                    )\n",
        "    matA = np.array([\n",
        "                    [bestA[7], bestA[8], bestA[9], -1],\n",
        "                    [bestA[4],   -1 , bestA[5], -1],\n",
        "                    [bestA[0], bestA[1], bestA[2], bestA[3]]])\n",
        "\n",
        "    im = ax.imshow(matV)\n",
        "\n",
        "\n",
        "  for i in range(matV.shape[0]):\n",
        "      for j in range(matV.shape[1]):\n",
        "          if matA[i][j]==-1:\n",
        "              arrow = ''\n",
        "          elif matA[i, j] == 0:\n",
        "              arrow = '^'\n",
        "          elif matA[i, j] == 1:\n",
        "              arrow = '<'\n",
        "          elif matA[i, j] == 2:\n",
        "              arrow = 'v'\n",
        "          elif matA[i, j] == 3:\n",
        "              arrow = '>'\n",
        "          text = ax.text(j, i, arrow, ha = \"center\", va = \"center\",\n",
        "                         color = \"black\")\n",
        "            \n",
        "  cbar = ax.figure.colorbar(im, ax = ax)\n",
        "    \n",
        "  fig.tight_layout()\n",
        "  plt.show() "
      ],
      "execution_count": 5,
      "outputs": []
    },
    {
      "cell_type": "code",
      "metadata": {
        "id": "4AMDenr44UCt",
        "colab": {
          "base_uri": "https://localhost:8080/",
          "height": 295
        },
        "outputId": "bbd22102-bc00-4ce8-98bf-f661293981d1"
      },
      "source": [
        "plotBestPolicy(w, 0.9)"
      ],
      "execution_count": 6,
      "outputs": [
        {
          "output_type": "display_data",
          "data": {
            "text/plain": [
              "<Figure size 432x288 with 2 Axes>"
            ],
            "image/png": "[encoded data removed]"
          },
          "metadata": {
            "needs_background": "light"
          }
        }
      ]
    },
    {
      "cell_type": "markdown",
      "metadata": {
        "id": "iOUAug-46kNB"
      },
      "source": [
        "Vous pouvez modifier la matrice de récompenses pour observer les différentes politiques optimales vues en cours. Peut-être en avons nous oublié?\n"
      ]
    },
    {
      "cell_type": "markdown",
      "metadata": {
        "id": "j6Gh1rWu6SLI"
      },
      "source": [
        "## Policy Iteration\n",
        "\n",
        "Implémentez l'algorithme d'itération sur les politiques. Pour débugger, vous pouvez dessiner la politique avec les fonctions ci-dessus (pour voir la fonction de valeur et/ou la politique associée).\n"
      ]
    },
    {
      "cell_type": "code",
      "metadata": {
        "id": "iWL-jnqxCUIP"
      },
      "source": [
        "def policy_iter(eps, gamma,T,R):\n",
        "   \n",
        "    \n",
        "    # 1. Initialization\n",
        "    V=np.zeros((11,))\n",
        "    pi = [0 for s in range(11)]\n",
        "    delta = 2*eps  \n",
        "    \n",
        "    while True:\n",
        "    \n",
        "        # 2. Policy Evaluation\n",
        "        while (delta>eps):\n",
        "            delta=0\n",
        "            for s in range(11):\n",
        "                v = V[s]\n",
        "                V[s] = (R[s,:]+np.dot(T[s,:,:],gamma*V)) [pi[s]]\n",
        "                delta = max(delta, abs(v - V[s]))\n",
        "            \n",
        "\n",
        "        # 3. Policy Improvement\n",
        "        policy_stable = True\n",
        "        for s in range(11):\n",
        "            old_action = pi[s]\n",
        "            pi[s] = np.argmax((R[s,:]+np.dot(T[s,:,:],gamma*V)) ) \n",
        "\n",
        "            if old_action != pi[s]: policy_stable = False\n",
        "        if policy_stable: break\n",
        "    \n",
        "    return V, pi"
      ],
      "execution_count": 26,
      "outputs": []
    },
    {
      "cell_type": "code",
      "source": [
        "V, pi = policy_iter(0.1,0.9,T,R)\n",
        "print(V)\n",
        "printV(V)"
      ],
      "metadata": {
        "colab": {
          "base_uri": "https://localhost:8080/"
        },
        "id": "e0d4SNjazRAl",
        "outputId": "29bb1ba8-d1c4-431b-e9f4-63698d255890"
      },
      "execution_count": 29,
      "outputs": [
        {
          "output_type": "stream",
          "name": "stdout",
          "text": [
            "[ 0.00000000e+00 -1.16640000e-02 -9.67075200e-02 -8.00385437e-01\n",
            "  0.00000000e+00  1.89838800e-02 -1.00000000e+00  7.29000000e-04\n",
            "  1.98952200e-02  2.03771450e-01  1.00000000e+00]\n",
            "| 0.00 | 0.02 | 0.20 | 1.00 |\n",
            "| 0.00 | ---- | 0.02 | -1.0 |\n",
            "| 0.00 | -0.01 | -0.10 | -0.80 |\n"
          ]
        }
      ]
    },
    {
      "cell_type": "code",
      "source": [
        "plotBestPolicy(V,0.9)"
      ],
      "metadata": {
        "colab": {
          "base_uri": "https://localhost:8080/",
          "height": 295
        },
        "id": "5Uo92soGzYmc",
        "outputId": "3b1b44cd-8b51-485e-fc69-82855810d241"
      },
      "execution_count": 28,
      "outputs": [
        {
          "output_type": "display_data",
          "data": {
            "text/plain": [
              "<Figure size 432x288 with 2 Axes>"
            ],
            "image/png": "[encoded data removed]"
          },
          "metadata": {
            "needs_background": "light"
          }
        }
      ]
    }
  ]
}